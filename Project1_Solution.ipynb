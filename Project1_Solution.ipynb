{
 "cells": [
  {
   "cell_type": "code",
   "execution_count": null,
   "metadata": {
    "colab": {},
    "colab_type": "code",
    "id": "5pDtjlxPEDHM"
   },
   "outputs": [],
   "source": [
    "import warnings\n",
    "warnings.filterwarnings('ignore')\n",
    "import pandas as pd\n",
    "import math\n",
    "from sklearn.model_selection import train_test_split\n",
    "import numpy as np\n",
    "import seaborn as sns"
   ]
  },
  {
   "cell_type": "code",
   "execution_count": null,
   "metadata": {
    "colab": {},
    "colab_type": "code",
    "id": "cipVrqFAErl3"
   },
   "outputs": [],
   "source": [
    "data = pd.read_csv('Consumer_Complaints_train.csv')"
   ]
  },
  {
   "cell_type": "code",
   "execution_count": null,
   "metadata": {
    "colab": {
     "base_uri": "https://localhost:8080/",
     "height": 530
    },
    "colab_type": "code",
    "executionInfo": {
     "elapsed": 2439,
     "status": "ok",
     "timestamp": 1598170813957,
     "user": {
      "displayName": "satyajit senapati",
      "photoUrl": "https://lh3.googleusercontent.com/a-/AOh14GhzHuya1E9laQJFh2wxcBIhXUgcMwC2vtNU3cSAFA=s64",
      "userId": "11921857047175506581"
     },
     "user_tz": -330
    },
    "id": "YLiecvtwFVpo",
    "outputId": "706d5f2d-bbef-4ea2-c1b7-7661d18efa90"
   },
   "outputs": [
    {
     "data": {
      "text/html": [
       "<div>\n",
       "<style scoped>\n",
       "    .dataframe tbody tr th:only-of-type {\n",
       "        vertical-align: middle;\n",
       "    }\n",
       "\n",
       "    .dataframe tbody tr th {\n",
       "        vertical-align: top;\n",
       "    }\n",
       "\n",
       "    .dataframe thead th {\n",
       "        text-align: right;\n",
       "    }\n",
       "</style>\n",
       "<table border=\"1\" class=\"dataframe\">\n",
       "  <thead>\n",
       "    <tr style=\"text-align: right;\">\n",
       "      <th></th>\n",
       "      <th>Date received</th>\n",
       "      <th>Product</th>\n",
       "      <th>Sub-product</th>\n",
       "      <th>Issue</th>\n",
       "      <th>Sub-issue</th>\n",
       "      <th>Consumer complaint narrative</th>\n",
       "      <th>Company public response</th>\n",
       "      <th>Company</th>\n",
       "      <th>State</th>\n",
       "      <th>ZIP code</th>\n",
       "      <th>Tags</th>\n",
       "      <th>Consumer consent provided?</th>\n",
       "      <th>Submitted via</th>\n",
       "      <th>Date sent to company</th>\n",
       "      <th>Company response to consumer</th>\n",
       "      <th>Timely response?</th>\n",
       "      <th>Consumer disputed?</th>\n",
       "      <th>Complaint ID</th>\n",
       "    </tr>\n",
       "  </thead>\n",
       "  <tbody>\n",
       "    <tr>\n",
       "      <th>0</th>\n",
       "      <td>2014-05-15</td>\n",
       "      <td>Credit card</td>\n",
       "      <td>NaN</td>\n",
       "      <td>Billing statement</td>\n",
       "      <td>NaN</td>\n",
       "      <td>NaN</td>\n",
       "      <td>NaN</td>\n",
       "      <td>Wells Fargo &amp; Company</td>\n",
       "      <td>MI</td>\n",
       "      <td>48342</td>\n",
       "      <td>Older American</td>\n",
       "      <td>NaN</td>\n",
       "      <td>Web</td>\n",
       "      <td>2014-05-16</td>\n",
       "      <td>Closed with explanation</td>\n",
       "      <td>Yes</td>\n",
       "      <td>No</td>\n",
       "      <td>856103</td>\n",
       "    </tr>\n",
       "    <tr>\n",
       "      <th>1</th>\n",
       "      <td>2014-09-18</td>\n",
       "      <td>Bank account or service</td>\n",
       "      <td>(CD) Certificate of deposit</td>\n",
       "      <td>Making/receiving payments, sending money</td>\n",
       "      <td>NaN</td>\n",
       "      <td>NaN</td>\n",
       "      <td>NaN</td>\n",
       "      <td>Santander Bank US</td>\n",
       "      <td>PA</td>\n",
       "      <td>18042</td>\n",
       "      <td>NaN</td>\n",
       "      <td>NaN</td>\n",
       "      <td>Referral</td>\n",
       "      <td>2014-09-24</td>\n",
       "      <td>Closed</td>\n",
       "      <td>Yes</td>\n",
       "      <td>No</td>\n",
       "      <td>1034666</td>\n",
       "    </tr>\n",
       "    <tr>\n",
       "      <th>2</th>\n",
       "      <td>2014-03-13</td>\n",
       "      <td>Credit reporting</td>\n",
       "      <td>NaN</td>\n",
       "      <td>Incorrect information on credit report</td>\n",
       "      <td>Account status</td>\n",
       "      <td>NaN</td>\n",
       "      <td>NaN</td>\n",
       "      <td>Equifax</td>\n",
       "      <td>CA</td>\n",
       "      <td>92427</td>\n",
       "      <td>NaN</td>\n",
       "      <td>NaN</td>\n",
       "      <td>Referral</td>\n",
       "      <td>2014-04-03</td>\n",
       "      <td>Closed with non-monetary relief</td>\n",
       "      <td>Yes</td>\n",
       "      <td>No</td>\n",
       "      <td>756363</td>\n",
       "    </tr>\n",
       "    <tr>\n",
       "      <th>3</th>\n",
       "      <td>2015-07-17</td>\n",
       "      <td>Credit card</td>\n",
       "      <td>NaN</td>\n",
       "      <td>Billing statement</td>\n",
       "      <td>NaN</td>\n",
       "      <td>My credit card statement from US Bank, XXXX. X...</td>\n",
       "      <td>Company chooses not to provide a public response</td>\n",
       "      <td>U.S. Bancorp</td>\n",
       "      <td>GA</td>\n",
       "      <td>305XX</td>\n",
       "      <td>Older American</td>\n",
       "      <td>Consent provided</td>\n",
       "      <td>Web</td>\n",
       "      <td>2015-07-17</td>\n",
       "      <td>Closed with monetary relief</td>\n",
       "      <td>Yes</td>\n",
       "      <td>No</td>\n",
       "      <td>1474177</td>\n",
       "    </tr>\n",
       "    <tr>\n",
       "      <th>4</th>\n",
       "      <td>2014-11-20</td>\n",
       "      <td>Credit card</td>\n",
       "      <td>NaN</td>\n",
       "      <td>Transaction issue</td>\n",
       "      <td>NaN</td>\n",
       "      <td>NaN</td>\n",
       "      <td>NaN</td>\n",
       "      <td>Bank of America</td>\n",
       "      <td>MA</td>\n",
       "      <td>02127</td>\n",
       "      <td>NaN</td>\n",
       "      <td>NaN</td>\n",
       "      <td>Web</td>\n",
       "      <td>2014-11-28</td>\n",
       "      <td>Closed with explanation</td>\n",
       "      <td>Yes</td>\n",
       "      <td>No</td>\n",
       "      <td>1132572</td>\n",
       "    </tr>\n",
       "  </tbody>\n",
       "</table>\n",
       "</div>"
      ],
      "text/plain": [
       "  Date received                  Product  ... Consumer disputed? Complaint ID\n",
       "0    2014-05-15              Credit card  ...                 No       856103\n",
       "1    2014-09-18  Bank account or service  ...                 No      1034666\n",
       "2    2014-03-13         Credit reporting  ...                 No       756363\n",
       "3    2015-07-17              Credit card  ...                 No      1474177\n",
       "4    2014-11-20              Credit card  ...                 No      1132572\n",
       "\n",
       "[5 rows x 18 columns]"
      ]
     },
     "execution_count": 3,
     "metadata": {
      "tags": []
     },
     "output_type": "execute_result"
    }
   ],
   "source": [
    "data.head()"
   ]
  },
  {
   "cell_type": "code",
   "execution_count": null,
   "metadata": {
    "colab": {
     "base_uri": "https://localhost:8080/",
     "height": 442
    },
    "colab_type": "code",
    "executionInfo": {
     "elapsed": 1195,
     "status": "ok",
     "timestamp": 1598170819107,
     "user": {
      "displayName": "satyajit senapati",
      "photoUrl": "https://lh3.googleusercontent.com/a-/AOh14GhzHuya1E9laQJFh2wxcBIhXUgcMwC2vtNU3cSAFA=s64",
      "userId": "11921857047175506581"
     },
     "user_tz": -330
    },
    "id": "F1DIwx4jo6nE",
    "outputId": "46d834d3-c40e-4f75-b872-d82f9e0e74f6"
   },
   "outputs": [
    {
     "name": "stdout",
     "output_type": "stream",
     "text": [
      "<class 'pandas.core.frame.DataFrame'>\n",
      "RangeIndex: 478421 entries, 0 to 478420\n",
      "Data columns (total 18 columns):\n",
      " #   Column                        Non-Null Count   Dtype \n",
      "---  ------                        --------------   ----- \n",
      " 0   Date received                 478421 non-null  object\n",
      " 1   Product                       478421 non-null  object\n",
      " 2   Sub-product                   339948 non-null  object\n",
      " 3   Issue                         478421 non-null  object\n",
      " 4   Sub-issue                     185796 non-null  object\n",
      " 5   Consumer complaint narrative  75094 non-null   object\n",
      " 6   Company public response       90392 non-null   object\n",
      " 7   Company                       478421 non-null  object\n",
      " 8   State                         474582 non-null  object\n",
      " 9   ZIP code                      474573 non-null  object\n",
      " 10  Tags                          67206 non-null   object\n",
      " 11  Consumer consent provided?    135487 non-null  object\n",
      " 12  Submitted via                 478421 non-null  object\n",
      " 13  Date sent to company          478421 non-null  object\n",
      " 14  Company response to consumer  478421 non-null  object\n",
      " 15  Timely response?              478421 non-null  object\n",
      " 16  Consumer disputed?            478421 non-null  object\n",
      " 17  Complaint ID                  478421 non-null  int64 \n",
      "dtypes: int64(1), object(17)\n",
      "memory usage: 65.7+ MB\n"
     ]
    }
   ],
   "source": [
    "data.info()"
   ]
  },
  {
   "cell_type": "code",
   "execution_count": null,
   "metadata": {
    "colab": {},
    "colab_type": "code",
    "id": "eh0nPL1MIAZj"
   },
   "outputs": [],
   "source": [
    "for col in ['Sub-product','Sub-issue','Consumer complaint narrative',\n",
    "            'Company public response','Tags','Consumer consent provided?']:\n",
    "    varname=col.replace('-','_').replace('?','').replace(\" \",'_')+'_isNan'\n",
    "    data[varname]=np.where(pd.isnull(data[col]),1,0)\n",
    "    data.drop([col],1,inplace=True)"
   ]
  },
  {
   "cell_type": "code",
   "execution_count": null,
   "metadata": {
    "colab": {},
    "colab_type": "code",
    "id": "KBK3Q23sIE9i"
   },
   "outputs": [],
   "source": [
    "for col in ['Product','Submitted via','Company response to consumer','Timely response?']:\n",
    "    \n",
    "    temp=pd.get_dummies(data[col],prefix=col,drop_first=True)\n",
    "    data=pd.concat([temp,data],1)\n",
    "    data.drop([col],1,inplace=True)"
   ]
  },
  {
   "cell_type": "code",
   "execution_count": null,
   "metadata": {
    "colab": {},
    "colab_type": "code",
    "id": "mUJFO0f1IHou"
   },
   "outputs": [],
   "source": [
    "for col in ['Date received','Date sent to company']:\n",
    "    data[col]=pd.to_datetime(data[col],infer_datetime_format=True)\n",
    "data['day_diff']=pd.to_numeric(data['Date sent to company']-data['Date received'])\n",
    "for col in ['Date received','Date sent to company']:\n",
    "    data.drop([col],1,inplace=True)"
   ]
  },
  {
   "cell_type": "code",
   "execution_count": null,
   "metadata": {
    "colab": {},
    "colab_type": "code",
    "id": "xKfEmi8dIKWm"
   },
   "outputs": [],
   "source": [
    "for col in ['ZIP code','Company']:\n",
    "    data.drop([col],1,inplace=True)"
   ]
  },
  {
   "cell_type": "code",
   "execution_count": null,
   "metadata": {
    "colab": {},
    "colab_type": "code",
    "id": "lTt14oz8IOR8"
   },
   "outputs": [],
   "source": [
    "k=data['State'].value_counts()\n",
    "for val in k.axes[0][0:15]:\n",
    "    varname='State_'+val.replace(',','_').replace(' ','_')\n",
    "    data[varname]=np.where(data['State']==val,1,0)\n",
    "del data['State']"
   ]
  },
  {
   "cell_type": "code",
   "execution_count": null,
   "metadata": {
    "colab": {},
    "colab_type": "code",
    "id": "zbN1BFWlIRkc"
   },
   "outputs": [],
   "source": [
    "k=data['Issue'].value_counts()\n",
    "for val in k.axes[0][0:10]:\n",
    "    varname='Issue_'+val.replace(',','_').replace(' ','_')\n",
    "    data[varname]=np.where(data['Issue']==val,1,0)\n",
    "del data['Issue']"
   ]
  },
  {
   "cell_type": "code",
   "execution_count": null,
   "metadata": {
    "colab": {},
    "colab_type": "code",
    "id": "0SQnMcLFIYAZ"
   },
   "outputs": [],
   "source": [
    "data['Consumer disputed?']=np.where(data['Consumer disputed?']==\"Yes\",1,0)"
   ]
  },
  {
   "cell_type": "code",
   "execution_count": null,
   "metadata": {
    "colab": {},
    "colab_type": "code",
    "id": "bcw_B0RiMg_a"
   },
   "outputs": [],
   "source": [
    "from sklearn.preprocessing import StandardScaler"
   ]
  },
  {
   "cell_type": "code",
   "execution_count": null,
   "metadata": {
    "colab": {},
    "colab_type": "code",
    "id": "7HdeG7BKMkPD"
   },
   "outputs": [],
   "source": [
    "scaler = StandardScaler()"
   ]
  },
  {
   "cell_type": "code",
   "execution_count": null,
   "metadata": {
    "colab": {
     "base_uri": "https://localhost:8080/",
     "height": 1000
    },
    "colab_type": "code",
    "executionInfo": {
     "elapsed": 1062,
     "status": "ok",
     "timestamp": 1598170855172,
     "user": {
      "displayName": "satyajit senapati",
      "photoUrl": "https://lh3.googleusercontent.com/a-/AOh14GhzHuya1E9laQJFh2wxcBIhXUgcMwC2vtNU3cSAFA=s64",
      "userId": "11921857047175506581"
     },
     "user_tz": -330
    },
    "id": "TBWWboRbIaf1",
    "outputId": "a8b8f9f7-f29b-4da7-b5a2-beb9ac7d2178"
   },
   "outputs": [
    {
     "name": "stdout",
     "output_type": "stream",
     "text": [
      "<class 'pandas.core.frame.DataFrame'>\n",
      "RangeIndex: 478421 entries, 0 to 478420\n",
      "Data columns (total 57 columns):\n",
      " #   Column                                                        Non-Null Count   Dtype\n",
      "---  ------                                                        --------------   -----\n",
      " 0   Timely response?_Yes                                          478421 non-null  uint8\n",
      " 1   Company response to consumer_Closed with explanation          478421 non-null  uint8\n",
      " 2   Company response to consumer_Closed with monetary relief      478421 non-null  uint8\n",
      " 3   Company response to consumer_Closed with non-monetary relief  478421 non-null  uint8\n",
      " 4   Company response to consumer_Closed with relief               478421 non-null  uint8\n",
      " 5   Company response to consumer_Closed without relief            478421 non-null  uint8\n",
      " 6   Company response to consumer_Untimely response                478421 non-null  uint8\n",
      " 7   Submitted via_Fax                                             478421 non-null  uint8\n",
      " 8   Submitted via_Phone                                           478421 non-null  uint8\n",
      " 9   Submitted via_Postal mail                                     478421 non-null  uint8\n",
      " 10  Submitted via_Referral                                        478421 non-null  uint8\n",
      " 11  Submitted via_Web                                             478421 non-null  uint8\n",
      " 12  Product_Consumer Loan                                         478421 non-null  uint8\n",
      " 13  Product_Credit card                                           478421 non-null  uint8\n",
      " 14  Product_Credit reporting                                      478421 non-null  uint8\n",
      " 15  Product_Debt collection                                       478421 non-null  uint8\n",
      " 16  Product_Money transfers                                       478421 non-null  uint8\n",
      " 17  Product_Mortgage                                              478421 non-null  uint8\n",
      " 18  Product_Other financial service                               478421 non-null  uint8\n",
      " 19  Product_Payday loan                                           478421 non-null  uint8\n",
      " 20  Product_Prepaid card                                          478421 non-null  uint8\n",
      " 21  Product_Student loan                                          478421 non-null  uint8\n",
      " 22  Product_Virtual currency                                      478421 non-null  uint8\n",
      " 23  Consumer disputed?                                            478421 non-null  int64\n",
      " 24  Complaint ID                                                  478421 non-null  int64\n",
      " 25  Sub_product_isNan                                             478421 non-null  int64\n",
      " 26  Sub_issue_isNan                                               478421 non-null  int64\n",
      " 27  Consumer_complaint_narrative_isNan                            478421 non-null  int64\n",
      " 28  Company_public_response_isNan                                 478421 non-null  int64\n",
      " 29  Tags_isNan                                                    478421 non-null  int64\n",
      " 30  Consumer_consent_provided_isNan                               478421 non-null  int64\n",
      " 31  day_diff                                                      478421 non-null  int64\n",
      " 32  State_CA                                                      478421 non-null  int64\n",
      " 33  State_FL                                                      478421 non-null  int64\n",
      " 34  State_TX                                                      478421 non-null  int64\n",
      " 35  State_NY                                                      478421 non-null  int64\n",
      " 36  State_GA                                                      478421 non-null  int64\n",
      " 37  State_NJ                                                      478421 non-null  int64\n",
      " 38  State_PA                                                      478421 non-null  int64\n",
      " 39  State_IL                                                      478421 non-null  int64\n",
      " 40  State_VA                                                      478421 non-null  int64\n",
      " 41  State_MD                                                      478421 non-null  int64\n",
      " 42  State_OH                                                      478421 non-null  int64\n",
      " 43  State_NC                                                      478421 non-null  int64\n",
      " 44  State_MI                                                      478421 non-null  int64\n",
      " 45  State_AZ                                                      478421 non-null  int64\n",
      " 46  State_WA                                                      478421 non-null  int64\n",
      " 47  Issue_Loan_modification_collection_foreclosure                478421 non-null  int64\n",
      " 48  Issue_Incorrect_information_on_credit_report                  478421 non-null  int64\n",
      " 49  Issue_Loan_servicing__payments__escrow_account                478421 non-null  int64\n",
      " 50  Issue_Cont'd_attempts_collect_debt_not_owed                   478421 non-null  int64\n",
      " 51  Issue_Account_opening__closing__or_management                 478421 non-null  int64\n",
      " 52  Issue_Disclosure_verification_of_debt                         478421 non-null  int64\n",
      " 53  Issue_Communication_tactics                                   478421 non-null  int64\n",
      " 54  Issue_Deposits_and_withdrawals                                478421 non-null  int64\n",
      " 55  Issue_Application__originator__mortgage_broker                478421 non-null  int64\n",
      " 56  Issue_Billing_disputes                                        478421 non-null  int64\n",
      "dtypes: int64(34), uint8(23)\n",
      "memory usage: 134.6 MB\n"
     ]
    }
   ],
   "source": [
    "data.info()"
   ]
  },
  {
   "cell_type": "code",
   "execution_count": null,
   "metadata": {
    "colab": {},
    "colab_type": "code",
    "id": "JGQNPQD0NMcI"
   },
   "outputs": [],
   "source": [
    "cc_train, cc_test = train_test_split(data, test_size = 0.3,random_state=101)\n",
    "x_train = cc_train.drop(['Consumer disputed?','Complaint ID'],1)\n",
    "y_train = cc_train['Consumer disputed?']\n",
    "\n",
    "x_test = cc_test.drop(['Consumer disputed?','Complaint ID'],1)\n",
    "y_test= cc_test['Consumer disputed?']"
   ]
  },
  {
   "cell_type": "code",
   "execution_count": null,
   "metadata": {
    "colab": {},
    "colab_type": "code",
    "id": "13RRN0t4IkM8"
   },
   "outputs": [],
   "source": [
    "from sklearn.ensemble import RandomForestClassifier\n",
    "from sklearn.linear_model import LogisticRegression\n",
    "from sklearn.model_selection import RandomizedSearchCV\n",
    "from xgboost import XGBClassifier"
   ]
  },
  {
   "cell_type": "code",
   "execution_count": null,
   "metadata": {
    "colab": {},
    "colab_type": "code",
    "id": "Q21DOUn3L62v"
   },
   "outputs": [],
   "source": [
    "param_dist = {\"n_estimators\":[100,200,300,500,700,],\n",
    "              \"max_features\": [5,10,20,25,30,35],\n",
    "              \"bootstrap\": [True, False],\n",
    "              'class_weight':[None,'balanced'], \n",
    "                'criterion':['entropy','gini'],\n",
    "                'max_depth':[None,5,10,15,20,30,50],\n",
    "                'min_samples_leaf':[1,2,5,10,15,20], \n",
    "                'min_samples_split':[2,5,10,15,20]\n",
    "                  }"
   ]
  },
  {
   "cell_type": "code",
   "execution_count": null,
   "metadata": {
    "colab": {},
    "colab_type": "code",
    "id": "txRN3zAKMD8a"
   },
   "outputs": [],
   "source": [
    "rfc = RandomForestClassifier()"
   ]
  },
  {
   "cell_type": "code",
   "execution_count": null,
   "metadata": {
    "colab": {},
    "colab_type": "code",
    "id": "lYvLwis6IwVs"
   },
   "outputs": [],
   "source": [
    "from sklearn.metrics import classification_report,confusion_matrix,roc_auc_score"
   ]
  },
  {
   "cell_type": "code",
   "execution_count": null,
   "metadata": {
    "colab": {},
    "colab_type": "code",
    "id": "pdkR_4U5_ugl"
   },
   "outputs": [],
   "source": [
    "from imblearn.over_sampling import SMOTE\n",
    "from collections import Counter"
   ]
  },
  {
   "cell_type": "code",
   "execution_count": null,
   "metadata": {
    "colab": {},
    "colab_type": "code",
    "id": "xQRz0qpU_u0W"
   },
   "outputs": [],
   "source": [
    "sm = SMOTE(random_state=42)"
   ]
  },
  {
   "cell_type": "code",
   "execution_count": null,
   "metadata": {
    "colab": {},
    "colab_type": "code",
    "id": "U63HgrhD_vOn"
   },
   "outputs": [],
   "source": [
    "X = data.drop(['Consumer disputed?','Complaint ID'],1)\n",
    "y = data['Consumer disputed?']"
   ]
  },
  {
   "cell_type": "code",
   "execution_count": null,
   "metadata": {
    "colab": {},
    "colab_type": "code",
    "id": "s8XyUDKgDW0d"
   },
   "outputs": [],
   "source": [
    "X, y = sm.fit_resample(X, y)"
   ]
  },
  {
   "cell_type": "code",
   "execution_count": null,
   "metadata": {
    "colab": {
     "base_uri": "https://localhost:8080/",
     "height": 34
    },
    "colab_type": "code",
    "executionInfo": {
     "elapsed": 1301,
     "status": "ok",
     "timestamp": 1598171217974,
     "user": {
      "displayName": "satyajit senapati",
      "photoUrl": "https://lh3.googleusercontent.com/a-/AOh14GhzHuya1E9laQJFh2wxcBIhXUgcMwC2vtNU3cSAFA=s64",
      "userId": "11921857047175506581"
     },
     "user_tz": -330
    },
    "id": "zuTT4XTCDa6W",
    "outputId": "26c02ec7-3360-4a52-ca97-fe53f01247a2"
   },
   "outputs": [
    {
     "name": "stdout",
     "output_type": "stream",
     "text": [
      "Counter({0: 376990, 1: 376990})\n"
     ]
    }
   ],
   "source": [
    "counter = Counter(y)\n",
    "print(counter)"
   ]
  },
  {
   "cell_type": "code",
   "execution_count": null,
   "metadata": {
    "colab": {},
    "colab_type": "code",
    "id": "eePZw-p9E73Y"
   },
   "outputs": [],
   "source": [
    "X_train, X_test, y_train, y_test = train_test_split(X, y, test_size=0.33, random_state=42)"
   ]
  },
  {
   "cell_type": "code",
   "execution_count": 25,
   "metadata": {
    "colab": {},
    "colab_type": "code",
    "executionInfo": {
     "elapsed": 9,
     "status": "error",
     "timestamp": 1598186717537,
     "user": {
      "displayName": "satyajit senapati",
      "photoUrl": "https://lh3.googleusercontent.com/a-/AOh14GhzHuya1E9laQJFh2wxcBIhXUgcMwC2vtNU3cSAFA=s64",
      "userId": "11921857047175506581"
     },
     "user_tz": -330
    },
    "id": "AtDkGXBkM49z"
   },
   "outputs": [],
   "source": [
    "n_iter_search = 10\n",
    "\n",
    "random_search = RandomizedSearchCV(rfc, param_distributions=param_dist,\n",
    "                                   n_iter=n_iter_search,scoring='roc_auc',cv=10, verbose=1)\n",
    "random_search.fit(X_train, y_train)"
   ]
  },
  {
   "cell_type": "code",
   "execution_count": null,
   "metadata": {
    "colab": {},
    "colab_type": "code",
    "id": "aL1X67kJchip"
   },
   "outputs": [],
   "source": [
    "random_search.best_estimator_"
   ]
  },
  {
   "cell_type": "code",
   "execution_count": null,
   "metadata": {
    "colab": {},
    "colab_type": "code",
    "id": "Zc9Yu53WchtC"
   },
   "outputs": [],
   "source": [
    "rf_new = "
   ]
  },
  {
   "cell_type": "code",
   "execution_count": null,
   "metadata": {
    "colab": {
     "base_uri": "https://localhost:8080/",
     "height": 153
    },
    "colab_type": "code",
    "executionInfo": {
     "elapsed": 324037,
     "status": "ok",
     "timestamp": 1598115593553,
     "user": {
      "displayName": "satyajit senapati",
      "photoUrl": "https://lh3.googleusercontent.com/a-/AOh14GhzHuya1E9laQJFh2wxcBIhXUgcMwC2vtNU3cSAFA=s64",
      "userId": "11921857047175506581"
     },
     "user_tz": -330
    },
    "id": "uXSRheTfFrMU",
    "outputId": "107e3fc6-920f-45f0-859d-47cd274294b1"
   },
   "outputs": [
    {
     "data": {
      "text/plain": [
       "RandomForestClassifier(bootstrap=True, ccp_alpha=0.0, class_weight=None,\n",
       "                       criterion='gini', max_depth=None, max_features='auto',\n",
       "                       max_leaf_nodes=None, max_samples=None,\n",
       "                       min_impurity_decrease=0.0, min_impurity_split=None,\n",
       "                       min_samples_leaf=1, min_samples_split=2,\n",
       "                       min_weight_fraction_leaf=0.0, n_estimators=500,\n",
       "                       n_jobs=None, oob_score=False, random_state=None,\n",
       "                       verbose=0, warm_start=False)"
      ]
     },
     "execution_count": 41,
     "metadata": {
      "tags": []
     },
     "output_type": "execute_result"
    }
   ],
   "source": [
    "rfc.fit(X_train,y_train)"
   ]
  },
  {
   "cell_type": "code",
   "execution_count": null,
   "metadata": {
    "colab": {},
    "colab_type": "code",
    "id": "9tWDYyqWFx75"
   },
   "outputs": [],
   "source": [
    "predictions = rfc.predict(X_test)"
   ]
  },
  {
   "cell_type": "code",
   "execution_count": null,
   "metadata": {
    "colab": {
     "base_uri": "https://localhost:8080/",
     "height": 221
    },
    "colab_type": "code",
    "executionInfo": {
     "elapsed": 1721,
     "status": "ok",
     "timestamp": 1598115699088,
     "user": {
      "displayName": "satyajit senapati",
      "photoUrl": "https://lh3.googleusercontent.com/a-/AOh14GhzHuya1E9laQJFh2wxcBIhXUgcMwC2vtNU3cSAFA=s64",
      "userId": "11921857047175506581"
     },
     "user_tz": -330
    },
    "id": "_y7MAj-UHV_6",
    "outputId": "ba30cdea-219f-435c-ce97-c587588eeba8"
   },
   "outputs": [
    {
     "name": "stdout",
     "output_type": "stream",
     "text": [
      "[[68093 56438]\n",
      " [29900 94383]]\n",
      "              precision    recall  f1-score   support\n",
      "\n",
      "           0       0.69      0.55      0.61    124531\n",
      "           1       0.63      0.76      0.69    124283\n",
      "\n",
      "    accuracy                           0.65    248814\n",
      "   macro avg       0.66      0.65      0.65    248814\n",
      "weighted avg       0.66      0.65      0.65    248814\n",
      "\n"
     ]
    },
    {
     "data": {
      "text/plain": [
       "0.6531078051579974"
      ]
     },
     "execution_count": 43,
     "metadata": {
      "tags": []
     },
     "output_type": "execute_result"
    }
   ],
   "source": [
    "print(confusion_matrix(y_test,predictions))\n",
    "print(classification_report(y_test,predictions))\n",
    "roc_auc_score(y_test,predictions)"
   ]
  },
  {
   "cell_type": "code",
   "execution_count": null,
   "metadata": {
    "colab": {},
    "colab_type": "code",
    "id": "HxrAYNFXHlJU"
   },
   "outputs": [],
   "source": []
  }
 ],
 "metadata": {
  "colab": {
   "authorship_tag": "ABX9TyMIyisgkuk17bUeEl9kW86x",
   "collapsed_sections": [],
   "name": "Project1_Solution.ipynb",
   "provenance": []
  },
  "kernelspec": {
   "display_name": "Python 3",
   "language": "python",
   "name": "python3"
  },
  "language_info": {
   "codemirror_mode": {
    "name": "ipython",
    "version": 3
   },
   "file_extension": ".py",
   "mimetype": "text/x-python",
   "name": "python",
   "nbconvert_exporter": "python",
   "pygments_lexer": "ipython3",
   "version": "3.7.9"
  }
 },
 "nbformat": 4,
 "nbformat_minor": 1
}
